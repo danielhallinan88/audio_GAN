{
 "cells": [
  {
   "cell_type": "code",
   "execution_count": 1,
   "metadata": {},
   "outputs": [],
   "source": [
    "from skimage.transform import resize\n",
    "from glob import glob\n",
    "from IPython.display import Audio\n",
    "import matplotlib.pyplot as plt\n",
    "import numpy as np\n",
    "#import librosa\n",
    "import warnings\n",
    "import os\n",
    "\n",
    "warnings.filterwarnings(\"ignore\", category=DeprecationWarning)"
   ]
  },
  {
   "cell_type": "code",
   "execution_count": null,
   "metadata": {},
   "outputs": [],
   "source": [
    "# For use in Google Colab\n",
    "\n",
    "def use_google_colab(switch):\n",
    "    if switch:\n",
    "        from google.colab import files\n",
    "        uploaded = files.upload()\n",
    "\n",
    "use_google_colab(False)"
   ]
  },
  {
   "cell_type": "code",
   "execution_count": null,
   "metadata": {},
   "outputs": [],
   "source": [
    "tracks = glob('*.mp3')\n",
    "tracks"
   ]
  },
  {
   "cell_type": "code",
   "execution_count": null,
   "metadata": {},
   "outputs": [],
   "source": [
    "def chop_bars(track, beats, bar_length=4, beat_step=True):\n",
    "  \"\"\"\n",
    "  Chops up a track into bars of a given length, and will return\n",
    "  a list of bars. If beat_step=True it will append bars starting\n",
    "  at every beat.\n",
    "  \"\"\"\n",
    "  bars = []\n",
    "  beat_idx = librosa.frames_to_samples(beats)\n",
    "\n",
    "  if beat_step:\n",
    "    for i in range(len(beat_idx) - bar_length):\n",
    "      beat_start = beat_idx[i]\n",
    "      beat_end = beat_idx[i+bar_length]\n",
    "      sample = track[beat_start: beat_end]\n",
    "      bars.append(sample)\n",
    "\n",
    "  else:\n",
    "    for i in range(0, len(beat_idx) - bar_length, bar_length):\n",
    "      beat_start = beat_idx[i]\n",
    "      beat_end = beat_idx[i+bar_length]\n",
    "      sample = track[beat_start: beat_end]\n",
    "      bars.append(sample)\n",
    "\n",
    "  return bars\n",
    "\n",
    "def loop_sample(sample, loop_count=4):\n",
    "  tmp = sample\n",
    "  for i in range(loop_count - 1):\n",
    "    sample = np.concatenate((tmp, sample))\n",
    "\n",
    "  return sample\n",
    "\n",
    "def resize_bars(bars):\n",
    "  \"\"\"\n",
    "  Resize each bar to the average length of all bars.\n",
    "  Return a numpy array of all bars.\n",
    "  \"\"\"\n",
    "  avg_length = int(np.mean([bar.shape[0] for bar in bars]))\n",
    "  return np.array([ resize(bar, (avg_length,), anti_aliasing=True) for bar in bars ])"
   ]
  },
  {
   "cell_type": "code",
   "execution_count": null,
   "metadata": {},
   "outputs": [],
   "source": [
    "bars_chopped_4beats = []\n",
    "bars_chopped_8beats = []\n",
    "bars_chopped_16beats = []\n",
    "\n",
    "bars_stepped_4beats = []\n",
    "bars_stepped_8beats = []\n",
    "bars_stepped_16beats = []\n",
    "\n",
    "for track in tracks:\n",
    "  print(track)\n",
    "  audio_array, sr = librosa.load(track)\n",
    "  tempo, beats = librosa.beat.beat_track(y=audio_array, sr=sr)\n",
    "\n",
    "  #bars_chopped_4beats += chop_bars(audio_array, beats, bar_length=4, beat_step=False)\n",
    "  #bars_chopped_8beats += chop_bars(audio_array, beats, bar_length=8, beat_step=False)\n",
    "  #bars_chopped_16beats += chop_bars(audio_array, beats, bar_length=16, beat_step=False)\n",
    "  #bars_stepped_4beats += chop_bars(audio_array, beats, bar_length=4, beat_step=True)\n",
    "  #bars_stepped_8beats += chop_bars(audio_array, beats, bar_length=8, beat_step=True)\n",
    "  bars_stepped_16beats += chop_bars(audio_array, beats, bar_length=16, beat_step=True)\n"
   ]
  },
  {
   "cell_type": "code",
   "execution_count": null,
   "metadata": {},
   "outputs": [],
   "source": [
    "print(f\"4 beat chopped bars: {len(bars_chopped_4beats)}\")\n",
    "print(f\"8 beat chopped bars: {len(bars_chopped_8beats)}\")\n",
    "print(f\"16 beat chopped bars: {len(bars_chopped_16beats)}\")\n",
    "print(f\"4 beat stepped bars: {len(bars_stepped_4beats)}\")\n",
    "print(f\"8 beat stepped bars: {len(bars_stepped_8beats)}\")\n",
    "print(f\"16 beat stepped bars: {len(bars_stepped_16beats)}\")"
   ]
  },
  {
   "cell_type": "code",
   "execution_count": null,
   "metadata": {},
   "outputs": [],
   "source": [
    "#bars_chopped_4beats_resized = resize_bars(bars_chopped_4beats)\n",
    "#bars_chopped_8beats_resized = resize_bars(bars_chopped_8beats)\n",
    "#bars_chopped_16beats_resized = resize_bars(bars_chopped_16beats)\n",
    "#bars_stepped_4beats_resized = resize_bars(bars_stepped_4beats)\n",
    "#bars_stepped_8beats_resized = resize_bars(bars_stepped_8beats)\n",
    "bars_stepped_16beats = resize_bars(bars_stepped_16beats)"
   ]
  },
  {
   "cell_type": "code",
   "execution_count": null,
   "metadata": {},
   "outputs": [],
   "source": [
    "#print(f\"4 beat chopped bars shape: {bars_chopped_4beats_resized.shape}\")\n",
    "#print(f\"8 beat chopped bars shape: {bars_chopped_8beats_resized.shape}\")\n",
    "#print(f\"16 beat chopped bars shape: {bars_chopped_16beats_resized.shape}\")\n",
    "#print(f\"4 beat stepped bars shape: {bars_stepped_4beats_resized.shape}\")\n",
    "#print(f\"8 beat stepped bars shape: {bars_stepped_8beats_resized.shape}\")\n",
    "print(f\"16 beat stepped bars shape: {bars_stepped_16beats_resized.shape}\")"
   ]
  },
  {
   "cell_type": "code",
   "execution_count": null,
   "metadata": {},
   "outputs": [],
   "source": [
    "clip = bars_stepped_16beats_resized[-150]\n",
    "print(clip.shape)\n",
    "\n",
    "loop = loop_sample(clip, loop_count=2)\n",
    "\n",
    "Audio(loop, rate=22500)"
   ]
  },
  {
   "cell_type": "code",
   "execution_count": null,
   "metadata": {},
   "outputs": [],
   "source": [
    "np.savez_compressed(\"daft_punk_clips_chopped_4beats.npz\",X=bars_chopped_4beats_resized)"
   ]
  },
  {
   "cell_type": "code",
   "execution_count": null,
   "metadata": {},
   "outputs": [],
   "source": [
    "np.savez_compressed(\"daft_punk_clips_chopped_8beats.npz\",X=bars_chopped_8beats_resized)"
   ]
  },
  {
   "cell_type": "code",
   "execution_count": null,
   "metadata": {},
   "outputs": [],
   "source": [
    "np.savez_compressed(\"daft_punk_clips_chopped_16beats.npz\",X=bars_chopped_16beats_resized)"
   ]
  },
  {
   "cell_type": "code",
   "execution_count": null,
   "metadata": {},
   "outputs": [],
   "source": [
    "np.savez_compressed(\"daft_punk_clips_stepped_4beats.npz\",X=bars_stepped_4beats_resized)"
   ]
  },
  {
   "cell_type": "code",
   "execution_count": null,
   "metadata": {},
   "outputs": [],
   "source": [
    "np.savez_compressed(\"daft_punk_clips_stepped_8beats.npz\",X=bars_stepped_8beats_resized)"
   ]
  },
  {
   "cell_type": "code",
   "execution_count": null,
   "metadata": {},
   "outputs": [],
   "source": [
    "np.savez_compressed(\"daft_punk_clips_stepped_16beats.npz\",X=bars_stepped_16beats_resized)"
   ]
  }
 ],
 "metadata": {
  "kernelspec": {
   "display_name": "Python 3",
   "language": "python",
   "name": "python3"
  },
  "language_info": {
   "codemirror_mode": {
    "name": "ipython",
    "version": 3
   },
   "file_extension": ".py",
   "mimetype": "text/x-python",
   "name": "python",
   "nbconvert_exporter": "python",
   "pygments_lexer": "ipython3",
   "version": "3.7.7"
  }
 },
 "nbformat": 4,
 "nbformat_minor": 4
}
